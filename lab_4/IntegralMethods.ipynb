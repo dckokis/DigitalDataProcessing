{
 "cells": [
  {
   "cell_type": "code",
   "execution_count": 3,
   "outputs": [],
   "source": [
    "import numpy as np\n",
    "from scipy.integrate import odeint\n",
    "import matplotlib.pyplot as plt\n",
    "import math\n",
    "import scipy.integrate as integrate\n",
    "import scipy.special as special"
   ],
   "metadata": {
    "collapsed": false,
    "pycharm": {
     "name": "#%%\n"
    }
   }
  },
  {
   "cell_type": "markdown",
   "source": [
    "# Метод квадратур"
   ],
   "metadata": {
    "collapsed": false,
    "pycharm": {
     "name": "#%% md\n"
    }
   }
  },
  {
   "cell_type": "code",
   "execution_count": 4,
   "outputs": [],
   "source": [
    "y_exact = lambda x: x\n",
    "a = 0\n",
    "b = 1 + 0.001\n",
    "lam = 1 / 2\n",
    "K = lambda x, s: x * s\n",
    "f = lambda x: 5 * x / 6\n",
    "\n",
    "h = math.pi / 30\n",
    "\n",
    "x = np.arange(a, b, h)\n",
    "x = x.reshape(len(x), 1)\n",
    "n = len(x)"
   ],
   "metadata": {
    "collapsed": false,
    "pycharm": {
     "name": "#%%\n"
    }
   }
  },
  {
   "cell_type": "code",
   "execution_count": 5,
   "outputs": [],
   "source": [
    "# exact solution\n",
    "y = []\n",
    "for i in range(n):\n",
    "\ty.append([])\n",
    "\ty[i].append(y_exact(x[i]))\n",
    "y = np.array(y).reshape((n, 1))"
   ],
   "metadata": {
    "collapsed": false,
    "pycharm": {
     "name": "#%%\n"
    }
   }
  },
  {
   "cell_type": "code",
   "execution_count": 6,
   "outputs": [],
   "source": [
    "def quadMethod(K, f, a, b, h, lam):\n",
    "\tx = np.arange(a, b, h)\n",
    "\tx = x.reshape(len(x), 1)\n",
    "\tn = len(x)\n",
    "\twt = 1 / 2\n",
    "\twj = 1\n",
    "\tA = np.zeros((n, n))\n",
    "\tfor i in range(n):\n",
    "\t\tA[i][0] = -lam * h * wt * K(x[i], x[0])\n",
    "\t\tA[i][n - 1] = -lam * h * wt * K(x[i], x[n - 1])\n",
    "\t\tfor j in range(1, n - 1):\n",
    "\t\t\tA[i][j] = -lam * h * wj * K(x[i], x[j])\n",
    "\t\tA[i][i] += 1\n",
    "\tB = np.zeros((n, 1))\n",
    "\tfor i in range(n):\n",
    "\t\tB[i][0] = f(x[i])\n",
    "\treturn np.linalg.solve(A, B)"
   ],
   "metadata": {
    "collapsed": false,
    "pycharm": {
     "name": "#%%\n"
    }
   }
  },
  {
   "cell_type": "code",
   "execution_count": 7,
   "outputs": [
    {
     "data": {
      "text/plain": "<Figure size 432x288 with 1 Axes>",
      "image/png": "[encoded data removed]"
     },
     "metadata": {
      "needs_background": "light"
     },
     "output_type": "display_data"
    }
   ],
   "source": [
    "y_approx = quadMethod(K, f, a, b, h, lam)\n",
    "\n",
    "plt.plot(x, y, '-g', linewidth=2, label='y_exact')\n",
    "plt.plot(x, y_approx, 'or', label='y_approx')\n",
    "plt.xlabel(\"X\")\n",
    "plt.ylabel(\"y\")\n",
    "plt.legend('l', fontsize=12)\n",
    "plt.legend(bbox_to_anchor=(1, 1), loc='best')\n",
    "plt.ylim([0, max(y) + 0.1])\n",
    "plt.show()"
   ],
   "metadata": {
    "collapsed": false,
    "pycharm": {
     "name": "#%%\n"
    }
   }
  },
  {
   "cell_type": "markdown",
   "source": [
    "# Метод вырожденных ядер"
   ],
   "metadata": {
    "collapsed": false,
    "pycharm": {
     "name": "#%% md\n"
    }
   }
  },
  {
   "cell_type": "markdown",
   "source": [
    "Код из методички"
   ],
   "metadata": {
    "collapsed": false,
    "pycharm": {
     "name": "#%% md\n"
    }
   }
  },
  {
   "cell_type": "code",
   "execution_count": 8,
   "outputs": [],
   "source": [
    "y_exact = lambda x: 1\n",
    "a = 0\n",
    "b = 1 + 0.001\n",
    "Lambda = -1\n",
    "K = lambda x, s: (x ** 2) * s + (x ** 3) * (s ** 2) / 2 + (x ** 4)(s ** 3) / 6\n",
    "f = lambda x: np.exp(x) - x\n",
    "\n",
    "h = 0.05\n",
    "\n",
    "x = np.arange(a, b, h)\n",
    "x = x.reshape(len(x), 1)\n",
    "n = len(x)\n",
    "alpha = lambda x: [x ** 2, (x ** 3), (x ** 4)]\n",
    "beta = lambda s: [s, (s ** 2) / 2, (s ** 3) / 6]"
   ],
   "metadata": {
    "collapsed": false,
    "pycharm": {
     "name": "#%%\n"
    }
   }
  },
  {
   "cell_type": "code",
   "execution_count": 9,
   "outputs": [],
   "source": [
    "y = []\n",
    "for i in range(n):\n",
    "\ty.append([])\n",
    "\ty[i].append(y_exact(x[i]))\n",
    "y = np.array(y).reshape((n, 1))"
   ],
   "metadata": {
    "collapsed": false,
    "pycharm": {
     "name": "#%%\n"
    }
   }
  },
  {
   "cell_type": "code",
   "execution_count": 10,
   "outputs": [],
   "source": [
    "def bfun(t, m, f):\n",
    "\treturn beta(t)[m] * f(t)\n",
    "\n",
    "def Aijfun(t, m, k):\n",
    "\treturn beta(t)[m] * alpha(t)[k]"
   ],
   "metadata": {
    "collapsed": false,
    "pycharm": {
     "name": "#%%\n"
    }
   }
  },
  {
   "cell_type": "code",
   "execution_count": 11,
   "outputs": [],
   "source": [
    "def getCi(f, t, Lambda):\n",
    "\tm = len(alpha(0))\n",
    "\tM = np.zeros((m, m))\n",
    "\tr = np.zeros((m, 1))\n",
    "\tfor i in range(m):\n",
    "\t\tr[i] = integrate.quad(bfun, a, b, args=(i, f))[0]\n",
    "\t\tfor j in range(m):\n",
    "\t\t\tM[i][j] = -Lambda * integrate.quad(Aijfun, a, b, args=(i, j))[0]\n",
    "\t\tM[i][i] += 1\n",
    "\tc = np.linalg.solve(M, r)\n",
    "\treturn c"
   ],
   "metadata": {
    "collapsed": false,
    "pycharm": {
     "name": "#%%\n"
    }
   }
  },
  {
   "cell_type": "code",
   "execution_count": 12,
   "outputs": [
    {
     "data": {
      "text/plain": "<Figure size 432x288 with 1 Axes>",
      "image/png": "[encoded data removed]"
     },
     "metadata": {
      "needs_background": "light"
     },
     "output_type": "display_data"
    }
   ],
   "source": [
    "ci = getCi(f, x, Lambda)\n",
    "\n",
    "y_approx = Lambda * (ci[0] * alpha(x)[0] + ci[1] * alpha(x)[1] + ci[2] * alpha(x)[2]) + f(x)\n",
    "\n",
    "plt.plot(x, y, '-g', linewidth=2, label='y_exact')\n",
    "plt.plot(x, y_approx, 'or', label='y_approx')\n",
    "plt.xlabel(\"X\")\n",
    "plt.ylabel(\"y\")\n",
    "plt.legend('l', fontsize=12)\n",
    "plt.legend(bbox_to_anchor=(1, 1), loc='best')\n",
    "plt.ylim([0, max(y) + 0.1])\n",
    "plt.show()"
   ],
   "metadata": {
    "collapsed": false,
    "pycharm": {
     "name": "#%%\n"
    }
   }
  },
  {
   "cell_type": "markdown",
   "source": [
    "# Метод Галеркина-Петрова\n",
    "## a) Общий случай"
   ],
   "metadata": {
    "collapsed": false,
    "pycharm": {
     "name": "#%% md\n"
    }
   }
  },
  {
   "cell_type": "code",
   "execution_count": 13,
   "outputs": [],
   "source": [
    "a = -1\n",
    "b = 1 + 0.001\n",
    "h = 0.05\n",
    "lam = 1\n",
    "x = np.arange(a, b, h)\n",
    "\n",
    "f = lambda x: 1\n",
    "f1 = lambda x: x\n",
    "f2 = lambda x: x * x\n",
    "\n",
    "p1 = lambda x: 1\n",
    "p2 = lambda x: x\n",
    "\n",
    "y_exact = lambda x: 1 + 6 * x * x\n",
    "\n",
    "K = lambda x, s: x * x + x * s"
   ],
   "metadata": {
    "collapsed": false,
    "pycharm": {
     "name": "#%%\n"
    }
   }
  },
  {
   "cell_type": "code",
   "execution_count": 14,
   "outputs": [],
   "source": [
    "def GalerkinPetrov(K, f1, f2, p1, p2, a, b):\n",
    "\tAij = []\n",
    "\tBi = []\n",
    "\n",
    "\tAij.append([])\n",
    "\tAij[0].append(integrate.quad(lambda t: f1(t) * p1(t), a, b)[0] - lam *\n",
    "\t\t\t\t  integrate.dblquad(lambda t, s: (p1(t) * K(t, s) * f1(s)), a, b, lambda t: a, lambda t: b)[0])\n",
    "\tAij[0].append(integrate.quad(lambda t: f1(t) * p2(t), a, b)[0] - lam *\n",
    "\t\t\t\t  integrate.dblquad(lambda t, s: (p2(t) * K(t, s) * f1(s)), a, b, lambda t: a, lambda t: b)[0])\n",
    "\tAij.append([])\n",
    "\tAij[1].append(integrate.quad(lambda t: f2(t) * p1(t), a, b)[0] - lam *\n",
    "\t\t\t\t  integrate.dblquad(lambda t, s: (p1(t) * K(t, s) * f2(s)), a, b, lambda t: a, lambda t: b)[0])\n",
    "\tAij[1].append(integrate.quad(lambda t: f2(t) * p2(t), a, b)[0] - lam *\n",
    "\t\t\t\t  integrate.dblquad(lambda t, s: (p2(t) * K(t, s) * f2(s)), a, b, lambda t: a, lambda t: b)[0])\n",
    "\n",
    "\tBi.append(lam * integrate.dblquad(lambda t, s: (p1(t) * K(t, s) * f(s)), a, b, lambda t: a, lambda t: b)[0])\n",
    "\tBi.append(lam * integrate.dblquad(lambda t, s: (p2(t) * K(t, s) * f(s)), a, b, lambda t: a, lambda t: b)[0])\n",
    "\n",
    "\treturn np.linalg.solve(np.asarray(Aij), np.asarray(Bi))"
   ],
   "metadata": {
    "collapsed": false,
    "pycharm": {
     "name": "#%%\n"
    }
   }
  },
  {
   "cell_type": "code",
   "execution_count": 15,
   "outputs": [
    {
     "data": {
      "text/plain": "<Figure size 432x288 with 1 Axes>",
      "image/png": "[encoded data removed]"
     },
     "metadata": {
      "needs_background": "light"
     },
     "output_type": "display_data"
    }
   ],
   "source": [
    "ci = GalerkinPetrov(K, f1, f2, p1, p2, a, b)\n",
    "\n",
    "y = y_exact(x)\n",
    "y_approx = 1 + ci[0] * f1(x) + ci[1] * f2(x)\n",
    "\n",
    "plt.plot(x, y, '-g', linewidth=2, label='y_exact')\n",
    "plt.plot(x, y_approx, 'or', label='y_approx')\n",
    "plt.xlabel(\"X\")\n",
    "plt.ylabel(\"y\")\n",
    "plt.legend('l', fontsize=12)\n",
    "plt.legend(bbox_to_anchor=(1, 1), loc='best')\n",
    "plt.ylim([0, max(y) + 0.1])\n",
    "plt.show()"
   ],
   "metadata": {
    "collapsed": false,
    "pycharm": {
     "name": "#%%\n"
    }
   }
  },
  {
   "cell_type": "markdown",
   "source": [
    "## б) Метод Галеркина-Бубнова"
   ],
   "metadata": {
    "collapsed": false,
    "pycharm": {
     "name": "#%% md\n"
    }
   }
  },
  {
   "cell_type": "code",
   "execution_count": 16,
   "outputs": [],
   "source": [
    "def GalerkinBubnov(K, f1, f2, a, b):\n",
    "\tAij = []\n",
    "\tBi = []\n",
    "\n",
    "\tAij.append([])\n",
    "\tAij[0].append(integrate.quad(lambda t: f1(t) * f1(t), a, b)[0] - lam *\n",
    "\t\t\t\t  integrate.dblquad(lambda t, s: (f1(t) * K(t, s) * f1(s)), a, b, lambda t: a, lambda t: b)[0])\n",
    "\tAij[0].append(integrate.quad(lambda t: f1(t) * f2(t), a, b)[0] - lam *\n",
    "\t\t\t\t  integrate.dblquad(lambda t, s: (f1(t) * K(t, s) * f2(s)), a, b, lambda t: a, lambda t: b)[0])\n",
    "\tAij.append([])\n",
    "\tAij[1].append(integrate.quad(lambda t: f2(t) * f1(t), a, b)[0] - lam *\n",
    "\t\t\t\t  integrate.dblquad(lambda t, s: (f2(t) * K(t, s) * f1(s)), a, b, lambda t: a, lambda t: b)[0])\n",
    "\tAij[1].append(integrate.quad(lambda t: f2(t) * f2(t), a, b)[0] - lam *\n",
    "\t\t\t\t  integrate.dblquad(lambda t, s: (f2(t) * K(t, s) * f2(s)), a, b, lambda t: a, lambda t: b)[0])\n",
    "\n",
    "\tBi.append(lam * integrate.dblquad(lambda t, s: (f1(t) * K(t, s) * f(s)), a, b, lambda t: a, lambda t: b)[0])\n",
    "\tBi.append(lam * integrate.dblquad(lambda t, s: (f2(t) * K(t, s) * f(s)), a, b, lambda t: a, lambda t: b)[0])\n",
    "\n",
    "\treturn np.linalg.solve(np.asarray(Aij), np.asarray(Bi))"
   ],
   "metadata": {
    "collapsed": false,
    "pycharm": {
     "name": "#%%\n"
    }
   }
  },
  {
   "cell_type": "code",
   "execution_count": 17,
   "outputs": [
    {
     "data": {
      "text/plain": "<Figure size 432x288 with 1 Axes>",
      "image/png": "[encoded data removed]"
     },
     "metadata": {
      "needs_background": "light"
     },
     "output_type": "display_data"
    }
   ],
   "source": [
    "ci = GalerkinBubnov(K, f1, f2, a, b)\n",
    "\n",
    "y = y_exact(x)\n",
    "y_approx = 1 + ci[0] * f1(x) + ci[1] * f2(x)\n",
    "\n",
    "plt.plot(x, y, '-g', linewidth=2, label='y_exact')\n",
    "plt.plot(x, y_approx, 'or', label='y_approx')\n",
    "plt.xlabel(\"X\")\n",
    "plt.ylabel(\"y\")\n",
    "plt.legend('l', fontsize=12)\n",
    "plt.legend(bbox_to_anchor=(1, 1), loc='best')\n",
    "plt.ylim([0, max(y) + 0.1])\n",
    "plt.show()"
   ],
   "metadata": {
    "collapsed": false,
    "pycharm": {
     "name": "#%%\n"
    }
   }
  },
  {
   "cell_type": "code",
   "execution_count": 17,
   "outputs": [],
   "source": [],
   "metadata": {
    "collapsed": false,
    "pycharm": {
     "name": "#%%\n"
    }
   }
  }
 ],
 "metadata": {
  "kernelspec": {
   "display_name": "Python 3",
   "language": "python",
   "name": "python3"
  },
  "language_info": {
   "codemirror_mode": {
    "name": "ipython",
    "version": 2
   },
   "file_extension": ".py",
   "mimetype": "text/x-python",
   "name": "python",
   "nbconvert_exporter": "python",
   "pygments_lexer": "ipython2",
   "version": "2.7.6"
  }
 },
 "nbformat": 4,
 "nbformat_minor": 0
}